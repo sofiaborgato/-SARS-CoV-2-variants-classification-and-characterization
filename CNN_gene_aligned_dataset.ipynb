{
  "nbformat": 4,
  "nbformat_minor": 0,
  "metadata": {
    "colab": {
      "name": "CNN_gene.ipynb",
      "provenance": [],
      "collapsed_sections": [],
      "authorship_tag": "ABX9TyN9XsQqitHQolV2CRWmiwHB",
      "include_colab_link": true
    },
    "kernelspec": {
      "display_name": "Python 3",
      "name": "python3"
    },
    "language_info": {
      "name": "python"
    }
  },
  "cells": [
    {
      "cell_type": "markdown",
      "metadata": {
        "id": "view-in-github",
        "colab_type": "text"
      },
      "source": [
        "<a href=\"https://colab.research.google.com/github/sofiaborgato/Bioinformatic_project/blob/main/CNN_gene_aligned_dataset.ipynb\" target=\"_parent\"><img src=\"https://colab.research.google.com/assets/colab-badge.svg\" alt=\"Open In Colab\"/></a>"
      ]
    },
    {
      "cell_type": "code",
      "metadata": {
        "colab": {
          "base_uri": "https://localhost:8080/"
        },
        "id": "HKuZni7PslQu",
        "outputId": "d2410815-2a5b-44b1-8606-54b2bc9284b9"
      },
      "source": [
        "!git clone 'https://github.com/sofiaborgato/Bioinformatic_project.git'\n",
        "import tarfile\n",
        "import os\n",
        "import sys\n",
        "import os\n",
        "import numpy as np\n",
        "import string\n",
        "import pandas as pd\n",
        "import tensorflow as tf\n",
        "from tensorflow import feature_column\n",
        "from tensorflow.keras import layers\n",
        "from sklearn.model_selection import train_test_split\n",
        "\n",
        "from sklearn.decomposition import PCA\n",
        "from sklearn.preprocessing import StandardScaler\n",
        "import matplotlib.pyplot as plt\n",
        "from sklearn.preprocessing import LabelEncoder\n",
        "from sklearn.preprocessing import OneHotEncoder"
      ],
      "execution_count": 1,
      "outputs": [
        {
          "output_type": "stream",
          "text": [
            "Cloning into 'Bioinformatic_project'...\n",
            "remote: Enumerating objects: 58, done.\u001b[K\n",
            "remote: Counting objects: 100% (58/58), done.\u001b[K\n",
            "remote: Compressing objects: 100% (54/54), done.\u001b[K\n",
            "remote: Total 58 (delta 17), reused 0 (delta 0), pack-reused 0\u001b[K\n",
            "Unpacking objects: 100% (58/58), done.\n"
          ],
          "name": "stdout"
        }
      ]
    },
    {
      "cell_type": "code",
      "metadata": {
        "id": "cU8PHYjTrAWX"
      },
      "source": [
        "\n",
        "# open file\n",
        "file = tarfile.open('./Bioinformatic_project/data_local_concat.tar.xz') \n",
        "# extracting file\n",
        "file.extractall('./')\n",
        "  \n",
        "# file.close()\n",
        "# path='./Bioinformatic_project'\n",
        "# for file_name in os.listdir(path):\n",
        "#   print(file_name)\n"
      ],
      "execution_count": 2,
      "outputs": []
    },
    {
      "cell_type": "code",
      "metadata": {
        "id": "fssybjxStEoE"
      },
      "source": [
        "import pandas as pd\n",
        "import numpy as np\n"
      ],
      "execution_count": null,
      "outputs": []
    },
    {
      "cell_type": "code",
      "metadata": {
        "id": "RUOu5IlYtJAL"
      },
      "source": [
        "data=pd.read_csv('./data_local_concat/local_aligned _complete.csv')\n"
      ],
      "execution_count": 5,
      "outputs": []
    },
    {
      "cell_type": "code",
      "metadata": {
        "id": "ddyC3pd_tnv2"
      },
      "source": [
        "data.drop('Full sequence',axis='columns',inplace=True)\n"
      ],
      "execution_count": 7,
      "outputs": []
    },
    {
      "cell_type": "code",
      "metadata": {
        "id": "RRTS2HgDuowm"
      },
      "source": [
        "def df_to_dataset(dataframe, shuffle=True, batch_size=32):\n",
        "  dataframe = dataframe.copy()\n",
        "  labels = dataframe.pop('label')\n",
        "  print(dataframe.head())\n",
        "  ds = tf.data.Dataset.from_tensor_slices((dict(dataframe), labels))\n",
        "  if shuffle:\n",
        "    ds = ds.shuffle(buffer_size=len(dataframe))\n",
        "  ds = ds.batch(batch_size)\n",
        "  return ds\n",
        "\n",
        "from sklearn.preprocessing import LabelEncoder\n",
        "le=LabelEncoder()\n",
        "data['label']=le.fit_transform(data['label'])\n",
        "from sklearn.model_selection import train_test_split\n",
        "train, test = train_test_split(data, test_size=0.2,shuffle=True,stratify=data['label'])\n",
        "train, val = train_test_split(train, test_size=0.2,shuffle=True,stratify=train['label'])"
      ],
      "execution_count": 8,
      "outputs": []
    },
    {
      "cell_type": "code",
      "metadata": {
        "id": "eHpzRcW96B3F"
      },
      "source": [
        ""
      ],
      "execution_count": null,
      "outputs": []
    },
    {
      "cell_type": "code",
      "metadata": {
        "id": "fmF5FHXf8HK5"
      },
      "source": [
        ""
      ],
      "execution_count": null,
      "outputs": []
    },
    {
      "cell_type": "code",
      "metadata": {
        "colab": {
          "base_uri": "https://localhost:8080/"
        },
        "id": "4Nx6XvlVz1Ap",
        "outputId": "c6b76b32-87b8-4f7c-8f65-972f016d6fd6"
      },
      "source": [
        "batch_size = 30\n",
        "train_ds = df_to_dataset(train, shuffle = False, batch_size=batch_size)\n",
        "val_ds = df_to_dataset(val, shuffle=False, batch_size=batch_size)\n",
        "test_ds = df_to_dataset(test, shuffle=False, batch_size=batch_size)\n",
        "feature_columns = []\n",
        "n_features = 1000\n",
        "\n",
        "indicator_column_names = data.columns.drop('label')\n",
        "\n",
        "\n",
        "for col_name in indicator_column_names:\n",
        "  categorical_column = feature_column.categorical_column_with_vocabulary_list(\n",
        "      col_name, data[col_name].unique())\n",
        "  indicator_column = feature_column.indicator_column(categorical_column)\n",
        "  feature_columns.append(indicator_column)\n",
        "batch_size = 30\n",
        "train_ds = df_to_dataset(train, shuffle = False, batch_size=batch_size)\n",
        "val_ds = df_to_dataset(val, shuffle=False, batch_size=batch_size)\n",
        "test_ds = df_to_dataset(test, shuffle=False, batch_size=batch_size)\n"
      ],
      "execution_count": 18,
      "outputs": [
        {
          "output_type": "stream",
          "text": [
            "                                                 ORF1ab  ...                                              ORF10\n",
            "2315  ATGGAGAGCCTTGTCCCTGGTTTCAACGAGAAAACACACGTCCAAC...  ...  ATGGGCTATATAAACGTTTTCGCTTTTCCGTTTACGATATATAGTC...\n",
            "2844  ATGGAGAGCCTTGTCCCTGGTTTCAACGAGAAAACACACGTCCAAC...  ...  ATGGGCTATATAAACGTTTTCGCTTTTCCGTTTACGATATATAGTC...\n",
            "2668  ATGGAGAGCCTTGTCCCTGGTTTCAACGAGAAAACACACGTCCAAC...  ...  ATGGGCTATATAAACGTTTTCGCTTTTCCGTTTACGATATATAGTC...\n",
            "3786  ATGGAGAGCCTTGTCCCTGGTTTCAACGAGAAAACACACGTCCAAC...  ...  ATGGGCTATATAAACGTTTTCGCTTTTCCGTTTACGATATATAGTC...\n",
            "2031  ATGGAGAGCCTTGTCCCTGGTTTCAACGAGAAAACACACGTCCAAC...  ...  ATGGGCTATATAAACGTTTTCGCTTTTCCGTTTACGATATATAGTC...\n",
            "\n",
            "[5 rows x 11 columns]\n",
            "                                                 ORF1ab  ...                                              ORF10\n",
            "480   ATGGAGAGCCTTGTCCCTGGTTTCAACGAGAAAACACACGTCCAAC...  ...  ATGGGCTATATAAACGTTTTCGCTTTTCCGTTTACGATATATAGTC...\n",
            "2414  ATGGAGAGCCTTGTCCCTGGTTTCAACGAGAAAACACACGTCCAAC...  ...  ATGGGCTATATAAACGTTTTCGCTTTTCCGTTTACGATATATAGTC...\n",
            "4965  ATGGAGAGCCTTGTCCCTGGTTTCAACGAGAAAACACACGTCCAAC...  ...  ATGGGCTATATAAACGTTTTCGCTTTTCCGTTTACGATATATAGTC...\n",
            "2289  ATGGAGAGCCTTGTCCCTGGTTTCAACGAGAAAACACACGTCCAAC...  ...  ATGGGCTATATAAACGTTTTCGCTTTTCCGTTTACGATATATAGTC...\n",
            "5269  ATGGAGAGCCTTGTCCCTGGTTTCAACGAGAAAACACACGTCCAAC...  ...  ATGGGCTATATAAACGTTTTCGCTTTTCCGTTTACGATATATAGTC...\n",
            "\n",
            "[5 rows x 11 columns]\n",
            "                                                 ORF1ab  ...                                              ORF10\n",
            "203   ATGGAGAGCCTTGTCCCTGGTTTCAACGAGAAAACACACGTCCAAC...  ...  ATGGGCTATATAAACGTTTTCGCTTTTCCGTTTACGATATATAGTC...\n",
            "4717  ATGGAGAGCCTTGTCCCTGGTTTCAACGAGAAAACACACGTCCAAC...  ...  ATGGGCTATATAAACGTTTTCGCTTTTCCGTTTACGATATATAGTC...\n",
            "1085  ATGGAGAGCCTTGTCCCTGGTTTCAACGAGAAAACACACGTCCAAC...  ...  ATGGGCTATATAAACGTTTTCGCTTTTCCGTTTACGATATATAGTC...\n",
            "5367  ATGGAGAGCCTTGTCCCTGGTTTCAACGAGAAAACACACGTCCAAC...  ...  ATGGGCTATATAAACGTTTTCGCTTTTCCGTTTACGATATATAGTC...\n",
            "1679  ATGGAGAGCCTTGTCCCTGGTTTCAACGAGAAAACACACGTCCAAC...  ...  ATGGGCTATATAAACGTTTTCGCTTTTCCGTTTACGATATATAGTC...\n",
            "\n",
            "[5 rows x 11 columns]\n",
            "                                                 ORF1ab  ...                                              ORF10\n",
            "2315  ATGGAGAGCCTTGTCCCTGGTTTCAACGAGAAAACACACGTCCAAC...  ...  ATGGGCTATATAAACGTTTTCGCTTTTCCGTTTACGATATATAGTC...\n",
            "2844  ATGGAGAGCCTTGTCCCTGGTTTCAACGAGAAAACACACGTCCAAC...  ...  ATGGGCTATATAAACGTTTTCGCTTTTCCGTTTACGATATATAGTC...\n",
            "2668  ATGGAGAGCCTTGTCCCTGGTTTCAACGAGAAAACACACGTCCAAC...  ...  ATGGGCTATATAAACGTTTTCGCTTTTCCGTTTACGATATATAGTC...\n",
            "3786  ATGGAGAGCCTTGTCCCTGGTTTCAACGAGAAAACACACGTCCAAC...  ...  ATGGGCTATATAAACGTTTTCGCTTTTCCGTTTACGATATATAGTC...\n",
            "2031  ATGGAGAGCCTTGTCCCTGGTTTCAACGAGAAAACACACGTCCAAC...  ...  ATGGGCTATATAAACGTTTTCGCTTTTCCGTTTACGATATATAGTC...\n",
            "\n",
            "[5 rows x 11 columns]\n",
            "                                                 ORF1ab  ...                                              ORF10\n",
            "480   ATGGAGAGCCTTGTCCCTGGTTTCAACGAGAAAACACACGTCCAAC...  ...  ATGGGCTATATAAACGTTTTCGCTTTTCCGTTTACGATATATAGTC...\n",
            "2414  ATGGAGAGCCTTGTCCCTGGTTTCAACGAGAAAACACACGTCCAAC...  ...  ATGGGCTATATAAACGTTTTCGCTTTTCCGTTTACGATATATAGTC...\n",
            "4965  ATGGAGAGCCTTGTCCCTGGTTTCAACGAGAAAACACACGTCCAAC...  ...  ATGGGCTATATAAACGTTTTCGCTTTTCCGTTTACGATATATAGTC...\n",
            "2289  ATGGAGAGCCTTGTCCCTGGTTTCAACGAGAAAACACACGTCCAAC...  ...  ATGGGCTATATAAACGTTTTCGCTTTTCCGTTTACGATATATAGTC...\n",
            "5269  ATGGAGAGCCTTGTCCCTGGTTTCAACGAGAAAACACACGTCCAAC...  ...  ATGGGCTATATAAACGTTTTCGCTTTTCCGTTTACGATATATAGTC...\n",
            "\n",
            "[5 rows x 11 columns]\n",
            "                                                 ORF1ab  ...                                              ORF10\n",
            "203   ATGGAGAGCCTTGTCCCTGGTTTCAACGAGAAAACACACGTCCAAC...  ...  ATGGGCTATATAAACGTTTTCGCTTTTCCGTTTACGATATATAGTC...\n",
            "4717  ATGGAGAGCCTTGTCCCTGGTTTCAACGAGAAAACACACGTCCAAC...  ...  ATGGGCTATATAAACGTTTTCGCTTTTCCGTTTACGATATATAGTC...\n",
            "1085  ATGGAGAGCCTTGTCCCTGGTTTCAACGAGAAAACACACGTCCAAC...  ...  ATGGGCTATATAAACGTTTTCGCTTTTCCGTTTACGATATATAGTC...\n",
            "5367  ATGGAGAGCCTTGTCCCTGGTTTCAACGAGAAAACACACGTCCAAC...  ...  ATGGGCTATATAAACGTTTTCGCTTTTCCGTTTACGATATATAGTC...\n",
            "1679  ATGGAGAGCCTTGTCCCTGGTTTCAACGAGAAAACACACGTCCAAC...  ...  ATGGGCTATATAAACGTTTTCGCTTTTCCGTTTACGATATATAGTC...\n",
            "\n",
            "[5 rows x 11 columns]\n"
          ],
          "name": "stdout"
        }
      ]
    },
    {
      "cell_type": "code",
      "metadata": {
        "id": "URa5P3GS4LbP"
      },
      "source": [
        "feature_layer = tf.keras.layers.DenseFeatures(feature_columns)"
      ],
      "execution_count": 19,
      "outputs": []
    },
    {
      "cell_type": "code",
      "metadata": {
        "id": "gYHH0lYv7Y-i"
      },
      "source": [
        "model = tf.keras.Sequential([                          \n",
        " feature_layer,\n",
        "  layers.Dense(128, activation='relu'),\n",
        "  layers.Dense(128, activation='relu'),\n",
        "  layers.Dropout(.1),\n",
        "  layers.Dense(6)\n",
        "])"
      ],
      "execution_count": 20,
      "outputs": []
    },
    {
      "cell_type": "code",
      "metadata": {
        "colab": {
          "base_uri": "https://localhost:8080/",
          "height": 1000
        },
        "id": "HmoHL1_G7ccN",
        "outputId": "b69c9022-ff13-4db4-95d1-6bf04cda698f"
      },
      "source": [
        "num_epochs = 50\n",
        "bs = 32\n",
        "lr = 1e-5\n",
        "opt = tf.keras.optimizers.Adam(learning_rate=lr)\n",
        "#train_ds = df_to_dataset(train_x,train_y,batch_size = bs)\n",
        "#val_ds = df_to_dataset(val_x,val_y,batch_size = bs)\n",
        "\n",
        "\n",
        "model.compile(optimizer=opt,\n",
        "              loss=tf.keras.losses.SparseCategoricalCrossentropy(from_logits=True),\n",
        "              metrics=['accuracy'])\n",
        "\n",
        "history = model.fit(train_ds, epochs=num_epochs, validation_data=val_ds, batch_size = bs, verbose=2)\n",
        "\n",
        "\n",
        "import matplotlib.image  as mpimg\n",
        "import matplotlib.pyplot as plt\n",
        "#Result Visulization\n",
        "acc=history.history['accuracy']\n",
        "val_acc=history.history['val_accuracy']\n",
        "loss=history.history['loss']\n",
        "val_loss=history.history['val_loss']\n",
        "\n",
        "epochs=range(len(acc)) # Get number of epochs\n",
        "\n",
        "\n",
        "# Plot training and validation accuracy per epoch\n",
        "\n",
        "plt.plot(epochs, acc, 'r')\n",
        "plt.plot(epochs, val_acc, 'b')\n",
        "plt.title('Training and validation accuracy')\n",
        "plt.xlabel(\"Epochs\")\n",
        "plt.ylabel(\"Accuracy\")\n",
        "plt.legend([\" Train Accuracy\", \"Validation Accuracy\"])\n",
        "\n",
        "plt.figure()\n",
        "\n",
        "\n",
        "# Plot training and validation loss per epoch\n",
        "\n",
        "plt.plot(epochs, loss, 'r')\n",
        "plt.plot(epochs, val_loss, 'b')\n",
        "plt.title('Training and validation loss')\n",
        "plt.xlabel(\"Epochs\")\n",
        "plt.ylabel(\"Loss\")\n",
        "plt.legend([\" Train Loss\", \"Validation Loss\"])\n",
        "\n",
        "plt.figure()"
      ],
      "execution_count": 21,
      "outputs": [
        {
          "output_type": "stream",
          "text": [
            "Epoch 1/50\n",
            "WARNING:tensorflow:Layers in a Sequential model should only have a single input tensor, but we receive a <class 'dict'> input: {'ORF1ab': <tf.Tensor 'ExpandDims_4:0' shape=(None, 1) dtype=string>, 'S': <tf.Tensor 'ExpandDims_10:0' shape=(None, 1) dtype=string>, 'ORF3a': <tf.Tensor 'ExpandDims_5:0' shape=(None, 1) dtype=string>, 'E': <tf.Tensor 'ExpandDims:0' shape=(None, 1) dtype=string>, 'M': <tf.Tensor 'ExpandDims_1:0' shape=(None, 1) dtype=string>, 'ORF6': <tf.Tensor 'ExpandDims_6:0' shape=(None, 1) dtype=string>, 'ORF7a': <tf.Tensor 'ExpandDims_7:0' shape=(None, 1) dtype=string>, 'ORF7b': <tf.Tensor 'ExpandDims_8:0' shape=(None, 1) dtype=string>, 'ORF8': <tf.Tensor 'ExpandDims_9:0' shape=(None, 1) dtype=string>, 'N': <tf.Tensor 'ExpandDims_2:0' shape=(None, 1) dtype=string>, 'ORF10': <tf.Tensor 'ExpandDims_3:0' shape=(None, 1) dtype=string>}\n",
            "Consider rewriting this model with the Functional API.\n",
            "WARNING:tensorflow:Layers in a Sequential model should only have a single input tensor, but we receive a <class 'dict'> input: {'ORF1ab': <tf.Tensor 'ExpandDims_4:0' shape=(None, 1) dtype=string>, 'S': <tf.Tensor 'ExpandDims_10:0' shape=(None, 1) dtype=string>, 'ORF3a': <tf.Tensor 'ExpandDims_5:0' shape=(None, 1) dtype=string>, 'E': <tf.Tensor 'ExpandDims:0' shape=(None, 1) dtype=string>, 'M': <tf.Tensor 'ExpandDims_1:0' shape=(None, 1) dtype=string>, 'ORF6': <tf.Tensor 'ExpandDims_6:0' shape=(None, 1) dtype=string>, 'ORF7a': <tf.Tensor 'ExpandDims_7:0' shape=(None, 1) dtype=string>, 'ORF7b': <tf.Tensor 'ExpandDims_8:0' shape=(None, 1) dtype=string>, 'ORF8': <tf.Tensor 'ExpandDims_9:0' shape=(None, 1) dtype=string>, 'N': <tf.Tensor 'ExpandDims_2:0' shape=(None, 1) dtype=string>, 'ORF10': <tf.Tensor 'ExpandDims_3:0' shape=(None, 1) dtype=string>}\n",
            "Consider rewriting this model with the Functional API.\n",
            "WARNING:tensorflow:Layers in a Sequential model should only have a single input tensor, but we receive a <class 'dict'> input: {'ORF1ab': <tf.Tensor 'ExpandDims_4:0' shape=(None, 1) dtype=string>, 'S': <tf.Tensor 'ExpandDims_10:0' shape=(None, 1) dtype=string>, 'ORF3a': <tf.Tensor 'ExpandDims_5:0' shape=(None, 1) dtype=string>, 'E': <tf.Tensor 'ExpandDims:0' shape=(None, 1) dtype=string>, 'M': <tf.Tensor 'ExpandDims_1:0' shape=(None, 1) dtype=string>, 'ORF6': <tf.Tensor 'ExpandDims_6:0' shape=(None, 1) dtype=string>, 'ORF7a': <tf.Tensor 'ExpandDims_7:0' shape=(None, 1) dtype=string>, 'ORF7b': <tf.Tensor 'ExpandDims_8:0' shape=(None, 1) dtype=string>, 'ORF8': <tf.Tensor 'ExpandDims_9:0' shape=(None, 1) dtype=string>, 'N': <tf.Tensor 'ExpandDims_2:0' shape=(None, 1) dtype=string>, 'ORF10': <tf.Tensor 'ExpandDims_3:0' shape=(None, 1) dtype=string>}\n",
            "Consider rewriting this model with the Functional API.\n",
            "128/128 - 3s - loss: 1.7788 - accuracy: 0.2567 - val_loss: 1.7695 - val_accuracy: 0.2888\n",
            "Epoch 2/50\n",
            "128/128 - 1s - loss: 1.7595 - accuracy: 0.3522 - val_loss: 1.7491 - val_accuracy: 0.4327\n",
            "Epoch 3/50\n",
            "128/128 - 1s - loss: 1.7362 - accuracy: 0.5181 - val_loss: 1.7236 - val_accuracy: 0.6163\n",
            "Epoch 4/50\n",
            "128/128 - 1s - loss: 1.7068 - accuracy: 0.6781 - val_loss: 1.6907 - val_accuracy: 0.7383\n",
            "Epoch 5/50\n",
            "128/128 - 1s - loss: 1.6688 - accuracy: 0.7746 - val_loss: 1.6491 - val_accuracy: 0.8102\n",
            "Epoch 6/50\n",
            "128/128 - 1s - loss: 1.6216 - accuracy: 0.8213 - val_loss: 1.5989 - val_accuracy: 0.8332\n",
            "Epoch 7/50\n",
            "128/128 - 1s - loss: 1.5660 - accuracy: 0.8500 - val_loss: 1.5398 - val_accuracy: 0.8561\n",
            "Epoch 8/50\n",
            "128/128 - 1s - loss: 1.5007 - accuracy: 0.8795 - val_loss: 1.4719 - val_accuracy: 0.8770\n",
            "Epoch 9/50\n",
            "128/128 - 1s - loss: 1.4282 - accuracy: 0.9056 - val_loss: 1.3965 - val_accuracy: 0.9062\n",
            "Epoch 10/50\n",
            "128/128 - 1s - loss: 1.3492 - accuracy: 0.9236 - val_loss: 1.3162 - val_accuracy: 0.9197\n",
            "Epoch 11/50\n",
            "128/128 - 1s - loss: 1.2660 - accuracy: 0.9410 - val_loss: 1.2332 - val_accuracy: 0.9406\n",
            "Epoch 12/50\n",
            "128/128 - 1s - loss: 1.1801 - accuracy: 0.9541 - val_loss: 1.1487 - val_accuracy: 0.9479\n",
            "Epoch 13/50\n",
            "128/128 - 1s - loss: 1.0953 - accuracy: 0.9603 - val_loss: 1.0642 - val_accuracy: 0.9614\n",
            "Epoch 14/50\n",
            "128/128 - 1s - loss: 1.0085 - accuracy: 0.9718 - val_loss: 0.9806 - val_accuracy: 0.9656\n",
            "Epoch 15/50\n",
            "128/128 - 1s - loss: 0.9236 - accuracy: 0.9791 - val_loss: 0.8989 - val_accuracy: 0.9739\n",
            "Epoch 16/50\n",
            "128/128 - 1s - loss: 0.8429 - accuracy: 0.9849 - val_loss: 0.8203 - val_accuracy: 0.9802\n",
            "Epoch 17/50\n",
            "128/128 - 1s - loss: 0.7666 - accuracy: 0.9890 - val_loss: 0.7456 - val_accuracy: 0.9854\n",
            "Epoch 18/50\n",
            "128/128 - 1s - loss: 0.6932 - accuracy: 0.9930 - val_loss: 0.6757 - val_accuracy: 0.9927\n",
            "Epoch 19/50\n",
            "128/128 - 1s - loss: 0.6249 - accuracy: 0.9956 - val_loss: 0.6108 - val_accuracy: 0.9969\n",
            "Epoch 20/50\n",
            "128/128 - 1s - loss: 0.5633 - accuracy: 0.9977 - val_loss: 0.5514 - val_accuracy: 0.9969\n",
            "Epoch 21/50\n",
            "128/128 - 1s - loss: 0.5044 - accuracy: 0.9982 - val_loss: 0.4973 - val_accuracy: 0.9979\n",
            "Epoch 22/50\n",
            "128/128 - 1s - loss: 0.4550 - accuracy: 0.9984 - val_loss: 0.4483 - val_accuracy: 0.9990\n",
            "Epoch 23/50\n",
            "128/128 - 1s - loss: 0.4074 - accuracy: 0.9990 - val_loss: 0.4043 - val_accuracy: 0.9990\n",
            "Epoch 24/50\n",
            "128/128 - 1s - loss: 0.3670 - accuracy: 0.9992 - val_loss: 0.3647 - val_accuracy: 0.9990\n",
            "Epoch 25/50\n",
            "128/128 - 1s - loss: 0.3292 - accuracy: 0.9990 - val_loss: 0.3292 - val_accuracy: 0.9990\n",
            "Epoch 26/50\n",
            "128/128 - 1s - loss: 0.2973 - accuracy: 0.9997 - val_loss: 0.2975 - val_accuracy: 0.9990\n",
            "Epoch 27/50\n",
            "128/128 - 1s - loss: 0.2653 - accuracy: 0.9992 - val_loss: 0.2694 - val_accuracy: 0.9990\n",
            "Epoch 28/50\n",
            "128/128 - 1s - loss: 0.2385 - accuracy: 0.9992 - val_loss: 0.2445 - val_accuracy: 0.9990\n",
            "Epoch 29/50\n",
            "128/128 - 1s - loss: 0.2179 - accuracy: 0.9987 - val_loss: 0.2223 - val_accuracy: 0.9979\n",
            "Epoch 30/50\n",
            "128/128 - 1s - loss: 0.1961 - accuracy: 0.9992 - val_loss: 0.2025 - val_accuracy: 0.9979\n",
            "Epoch 31/50\n",
            "128/128 - 1s - loss: 0.1780 - accuracy: 0.9995 - val_loss: 0.1848 - val_accuracy: 0.9979\n",
            "Epoch 32/50\n",
            "128/128 - 1s - loss: 0.1614 - accuracy: 0.9992 - val_loss: 0.1691 - val_accuracy: 0.9979\n",
            "Epoch 33/50\n",
            "128/128 - 1s - loss: 0.1465 - accuracy: 0.9995 - val_loss: 0.1551 - val_accuracy: 0.9979\n",
            "Epoch 34/50\n",
            "128/128 - 1s - loss: 0.1339 - accuracy: 0.9992 - val_loss: 0.1424 - val_accuracy: 0.9969\n",
            "Epoch 35/50\n",
            "128/128 - 1s - loss: 0.1216 - accuracy: 0.9997 - val_loss: 0.1311 - val_accuracy: 0.9969\n",
            "Epoch 36/50\n",
            "128/128 - 1s - loss: 0.1099 - accuracy: 0.9990 - val_loss: 0.1210 - val_accuracy: 0.9969\n",
            "Epoch 37/50\n",
            "128/128 - 1s - loss: 0.1021 - accuracy: 0.9995 - val_loss: 0.1118 - val_accuracy: 0.9969\n",
            "Epoch 38/50\n",
            "128/128 - 1s - loss: 0.0936 - accuracy: 0.9995 - val_loss: 0.1036 - val_accuracy: 0.9969\n",
            "Epoch 39/50\n",
            "128/128 - 1s - loss: 0.0852 - accuracy: 0.9995 - val_loss: 0.0962 - val_accuracy: 0.9969\n",
            "Epoch 40/50\n",
            "128/128 - 1s - loss: 0.0793 - accuracy: 0.9992 - val_loss: 0.0894 - val_accuracy: 0.9969\n",
            "Epoch 41/50\n",
            "128/128 - 1s - loss: 0.0724 - accuracy: 0.9990 - val_loss: 0.0833 - val_accuracy: 0.9969\n",
            "Epoch 42/50\n",
            "128/128 - 1s - loss: 0.0674 - accuracy: 0.9995 - val_loss: 0.0778 - val_accuracy: 0.9969\n",
            "Epoch 43/50\n",
            "128/128 - 1s - loss: 0.0628 - accuracy: 0.9995 - val_loss: 0.0727 - val_accuracy: 0.9969\n",
            "Epoch 44/50\n",
            "128/128 - 1s - loss: 0.0571 - accuracy: 0.9995 - val_loss: 0.0681 - val_accuracy: 0.9969\n",
            "Epoch 45/50\n",
            "128/128 - 1s - loss: 0.0530 - accuracy: 0.9992 - val_loss: 0.0639 - val_accuracy: 0.9969\n",
            "Epoch 46/50\n",
            "128/128 - 1s - loss: 0.0501 - accuracy: 0.9995 - val_loss: 0.0601 - val_accuracy: 0.9969\n",
            "Epoch 47/50\n",
            "128/128 - 1s - loss: 0.0459 - accuracy: 0.9997 - val_loss: 0.0565 - val_accuracy: 0.9969\n",
            "Epoch 48/50\n",
            "128/128 - 1s - loss: 0.0429 - accuracy: 0.9992 - val_loss: 0.0532 - val_accuracy: 0.9969\n",
            "Epoch 49/50\n",
            "128/128 - 1s - loss: 0.0399 - accuracy: 0.9997 - val_loss: 0.0502 - val_accuracy: 0.9969\n",
            "Epoch 50/50\n",
            "128/128 - 1s - loss: 0.0369 - accuracy: 0.9995 - val_loss: 0.0475 - val_accuracy: 0.9969\n"
          ],
          "name": "stdout"
        },
        {
          "output_type": "execute_result",
          "data": {
            "text/plain": [
              "<Figure size 432x288 with 0 Axes>"
            ]
          },
          "metadata": {
            "tags": []
          },
          "execution_count": 21
        },
        {
          "output_type": "display_data",
          "data": {
            "image/png": "[encoded data removed]",
            "text/plain": [
              "<Figure size 432x288 with 1 Axes>"
            ]
          },
          "metadata": {
            "tags": [],
            "needs_background": "light"
          }
        },
        {
          "output_type": "display_data",
          "data": {
            "image/png": "[encoded data removed]",
            "text/plain": [
              "<Figure size 432x288 with 1 Axes>"
            ]
          },
          "metadata": {
            "tags": [],
            "needs_background": "light"
          }
        },
        {
          "output_type": "display_data",
          "data": {
            "text/plain": [
              "<Figure size 432x288 with 0 Axes>"
            ]
          },
          "metadata": {
            "tags": []
          }
        }
      ]
    },
    {
      "cell_type": "code",
      "metadata": {
        "id": "vT3zE9q58qj8",
        "colab": {
          "base_uri": "https://localhost:8080/"
        },
        "outputId": "50430178-d351-49cf-b3fc-07b8c076412b"
      },
      "source": [
        "model.fit(train_ds,validation_data=val_ds, epochs=20)\n",
        "loss, accuracy = model.evaluate(test_ds)\n",
        "print(\"Accuracy\", accuracy)"
      ],
      "execution_count": 22,
      "outputs": [
        {
          "output_type": "stream",
          "text": [
            "Epoch 1/20\n",
            "128/128 [==============================] - 2s 13ms/step - loss: 0.0344 - accuracy: 0.9992 - val_loss: 0.0450 - val_accuracy: 0.9969\n",
            "Epoch 2/20\n",
            "128/128 [==============================] - 2s 13ms/step - loss: 0.0318 - accuracy: 0.9995 - val_loss: 0.0426 - val_accuracy: 0.9969\n",
            "Epoch 3/20\n",
            "128/128 [==============================] - 2s 13ms/step - loss: 0.0302 - accuracy: 0.9997 - val_loss: 0.0404 - val_accuracy: 0.9969\n",
            "Epoch 4/20\n",
            "128/128 [==============================] - 2s 13ms/step - loss: 0.0282 - accuracy: 0.9995 - val_loss: 0.0384 - val_accuracy: 0.9969\n",
            "Epoch 5/20\n",
            "128/128 [==============================] - 2s 13ms/step - loss: 0.0265 - accuracy: 0.9992 - val_loss: 0.0365 - val_accuracy: 0.9969\n",
            "Epoch 6/20\n",
            "128/128 [==============================] - 2s 13ms/step - loss: 0.0245 - accuracy: 0.9995 - val_loss: 0.0348 - val_accuracy: 0.9969\n",
            "Epoch 7/20\n",
            "128/128 [==============================] - 2s 13ms/step - loss: 0.0230 - accuracy: 1.0000 - val_loss: 0.0332 - val_accuracy: 0.9969\n",
            "Epoch 8/20\n",
            "128/128 [==============================] - 2s 13ms/step - loss: 0.0218 - accuracy: 0.9997 - val_loss: 0.0317 - val_accuracy: 0.9969\n",
            "Epoch 9/20\n",
            "128/128 [==============================] - 2s 12ms/step - loss: 0.0203 - accuracy: 0.9995 - val_loss: 0.0303 - val_accuracy: 0.9969\n",
            "Epoch 10/20\n",
            "128/128 [==============================] - 2s 12ms/step - loss: 0.0191 - accuracy: 0.9997 - val_loss: 0.0290 - val_accuracy: 0.9969\n",
            "Epoch 11/20\n",
            "128/128 [==============================] - 2s 13ms/step - loss: 0.0183 - accuracy: 0.9997 - val_loss: 0.0278 - val_accuracy: 0.9969\n",
            "Epoch 12/20\n",
            "128/128 [==============================] - 2s 13ms/step - loss: 0.0171 - accuracy: 1.0000 - val_loss: 0.0267 - val_accuracy: 0.9969\n",
            "Epoch 13/20\n",
            "128/128 [==============================] - 2s 12ms/step - loss: 0.0156 - accuracy: 1.0000 - val_loss: 0.0256 - val_accuracy: 0.9969\n",
            "Epoch 14/20\n",
            "128/128 [==============================] - 2s 13ms/step - loss: 0.0152 - accuracy: 0.9997 - val_loss: 0.0246 - val_accuracy: 0.9969\n",
            "Epoch 15/20\n",
            "128/128 [==============================] - 2s 13ms/step - loss: 0.0143 - accuracy: 1.0000 - val_loss: 0.0237 - val_accuracy: 0.9969\n",
            "Epoch 16/20\n",
            "128/128 [==============================] - 2s 13ms/step - loss: 0.0135 - accuracy: 0.9995 - val_loss: 0.0229 - val_accuracy: 0.9969\n",
            "Epoch 17/20\n",
            "128/128 [==============================] - 2s 13ms/step - loss: 0.0126 - accuracy: 0.9997 - val_loss: 0.0220 - val_accuracy: 0.9969\n",
            "Epoch 18/20\n",
            "128/128 [==============================] - 2s 13ms/step - loss: 0.0118 - accuracy: 1.0000 - val_loss: 0.0213 - val_accuracy: 0.9969\n",
            "Epoch 19/20\n",
            "128/128 [==============================] - 2s 13ms/step - loss: 0.0112 - accuracy: 1.0000 - val_loss: 0.0205 - val_accuracy: 0.9969\n",
            "Epoch 20/20\n",
            "128/128 [==============================] - 2s 12ms/step - loss: 0.0108 - accuracy: 1.0000 - val_loss: 0.0198 - val_accuracy: 0.9969\n",
            "40/40 [==============================] - 0s 5ms/step - loss: 0.0236 - accuracy: 0.9967\n",
            "Accuracy 0.9966638684272766\n"
          ],
          "name": "stdout"
        }
      ]
    }
  ]
}