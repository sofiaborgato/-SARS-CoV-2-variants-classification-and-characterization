{
  "nbformat": 4,
  "nbformat_minor": 0,
  "metadata": {
    "colab": {
      "name": "CNN_final.ipynb",
      "provenance": [],
      "authorship_tag": "ABX9TyON5UGxFmvz42QavxLLBbzf",
      "include_colab_link": true
    },
    "kernelspec": {
      "name": "python3",
      "display_name": "Python 3"
    },
    "language_info": {
      "name": "python"
    }
  },
  "cells": [
    {
      "cell_type": "markdown",
      "metadata": {
        "id": "view-in-github",
        "colab_type": "text"
      },
      "source": [
        "<a href=\"https://colab.research.google.com/github/sofiaborgato/Bioinformatic_project/blob/main/CNN_final.ipynb\" target=\"_parent\"><img src=\"https://colab.research.google.com/assets/colab-badge.svg\" alt=\"Open In Colab\"/></a>"
      ]
    },
    {
      "cell_type": "code",
      "metadata": {
        "id": "HKuZni7PslQu",
        "colab": {
          "base_uri": "https://localhost:8080/"
        },
        "outputId": "5ee3edbd-8c90-4c2a-a5b7-f05477e0456a"
      },
      "source": [
        "!git clone 'https://github.com/sofiaborgato/Bioinformatic_project.git'\n",
        "import tarfile\n",
        "import os\n",
        "import sys\n",
        "import os\n",
        "import numpy as np\n",
        "import string\n",
        "import pandas as pd\n",
        "import tensorflow as tf\n",
        "from tensorflow import feature_column\n",
        "from tensorflow.keras import layers\n",
        "from sklearn.model_selection import train_test_split\n",
        "\n",
        "from sklearn.decomposition import PCA\n",
        "from sklearn.preprocessing import StandardScaler\n",
        "import matplotlib.pyplot as plt\n",
        "from sklearn.preprocessing import LabelEncoder\n",
        "from sklearn.preprocessing import OneHotEncoder"
      ],
      "execution_count": 1,
      "outputs": [
        {
          "output_type": "stream",
          "text": [
            "fatal: destination path 'Bioinformatic_project' already exists and is not an empty directory.\n"
          ],
          "name": "stdout"
        }
      ]
    },
    {
      "cell_type": "code",
      "metadata": {
        "colab": {
          "base_uri": "https://localhost:8080/"
        },
        "id": "cU8PHYjTrAWX",
        "outputId": "087fce3c-ba46-4c10-ee8f-aad4c1453b54"
      },
      "source": [
        "\n",
        "# open file\n",
        "file = tarfile.open('./Bioinformatic_project/total_aligned.tar.xz') \n",
        "# extracting file\n",
        "file.extractall('./Bioinformatic_project')\n",
        "  \n",
        "file.close()\n",
        "path='./Bioinformatic_project'\n",
        "for file_name in os.listdir(path):\n",
        "  print(file_name)\n"
      ],
      "execution_count": 2,
      "outputs": [
        {
          "output_type": "stream",
          "text": [
            "afri_alignment.csv\n",
            "data.tar.xz\n",
            "total_aligned.tar.xz\n",
            "us_alignment.csv\n",
            "en2_alignment.csv\n",
            "bra_alignment.csv\n",
            "en1_alignment.csv\n",
            ".git\n",
            "ori_alignment.csv\n",
            "original_covid_genome.fasta\n",
            "total_aligned.csv\n"
          ],
          "name": "stdout"
        }
      ]
    },
    {
      "cell_type": "code",
      "metadata": {
        "id": "fssybjxStEoE"
      },
      "source": [
        "import pandas as pd\n",
        "import numpy as np\n"
      ],
      "execution_count": 3,
      "outputs": []
    },
    {
      "cell_type": "code",
      "metadata": {
        "id": "RUOu5IlYtJAL"
      },
      "source": [
        "data=pd.read_csv('./Bioinformatic_project/total_aligned.csv')"
      ],
      "execution_count": 4,
      "outputs": []
    },
    {
      "cell_type": "code",
      "metadata": {
        "colab": {
          "base_uri": "https://localhost:8080/",
          "height": 456
        },
        "id": "Wbw3VXbT9ZV0",
        "outputId": "184aeb89-a544-452b-c8ef-7556d6103040"
      },
      "source": [
        "data"
      ],
      "execution_count": 5,
      "outputs": [
        {
          "output_type": "execute_result",
          "data": {
            "text/html": [
              "<div>\n",
              "<style scoped>\n",
              "    .dataframe tbody tr th:only-of-type {\n",
              "        vertical-align: middle;\n",
              "    }\n",
              "\n",
              "    .dataframe tbody tr th {\n",
              "        vertical-align: top;\n",
              "    }\n",
              "\n",
              "    .dataframe thead th {\n",
              "        text-align: right;\n",
              "    }\n",
              "</style>\n",
              "<table border=\"1\" class=\"dataframe\">\n",
              "  <thead>\n",
              "    <tr style=\"text-align: right;\">\n",
              "      <th></th>\n",
              "      <th>Full sequence</th>\n",
              "      <th>ORF1ab</th>\n",
              "      <th>S</th>\n",
              "      <th>ORF3a</th>\n",
              "      <th>E</th>\n",
              "      <th>M</th>\n",
              "      <th>ORF6</th>\n",
              "      <th>ORF7a</th>\n",
              "      <th>ORF7b</th>\n",
              "      <th>ORF8</th>\n",
              "      <th>N</th>\n",
              "      <th>ORF10</th>\n",
              "      <th>label</th>\n",
              "    </tr>\n",
              "  </thead>\n",
              "  <tbody>\n",
              "    <tr>\n",
              "      <th>0</th>\n",
              "      <td>----------------------------------------------...</td>\n",
              "      <td>ATGGAGAGCCTTGTCCCTGGTTTCAACGAGAAAACACACGTCCAAC...</td>\n",
              "      <td>ATGTTTGTTTTTCTTGTTTTATTGCCACTAGTCTCTATTCAGTGTG...</td>\n",
              "      <td>ATGGATTTGTTTATGAGAATCTTCACAATTGGAACTGTAACTTTGA...</td>\n",
              "      <td>ATGTACTCATTCGTTTCGGAAGAGACAGGTACGTTAATAGTTAATA...</td>\n",
              "      <td>ATGGCAGATTCCAACGGTACTATTACCGTTGAAGAGCTTAAAAAGC...</td>\n",
              "      <td>ATGTTTCATCTCGTTGACTTTCAGGTTACTATAGCAGAGATATTAC...</td>\n",
              "      <td>ATGAAAATTATTCTTTTCTTGGCACTGATAACACTCGCTACTTGTG...</td>\n",
              "      <td>ATGATTGAACTTTCATTAATTGACTTCTATTTGTGCTTTTTAGCCT...</td>\n",
              "      <td>ATGAAATTTCTTGTTTTCTTAGGAATCATCACAACTGTAGCTGCAT...</td>\n",
              "      <td>ATGTCTGATAATGGACCCCAAAATCAGCGAAATGCACCCCGCATTA...</td>\n",
              "      <td>ATGGGCTATATAAACGTTTTCGCTTTTCCGTTTACGATATATAGTC...</td>\n",
              "      <td>1</td>\n",
              "    </tr>\n",
              "    <tr>\n",
              "      <th>1</th>\n",
              "      <td>----------------TTCCCAGGTAACAAACCAACCAACTTTCGA...</td>\n",
              "      <td>ATGGAGAGCCTTGTCCCTGGTTTCAACGAGAAAACACACGTCCAAC...</td>\n",
              "      <td>ATGTTTGTTTTTCTTGTTTTATTGCCACTAGTCTCTATTCAGTGTG...</td>\n",
              "      <td>ATGGATTTGTTTATGAGAATCTTCACAATTGGAACTGTAACTTTGA...</td>\n",
              "      <td>ATGTACTCATTCGTTTCGGAAGAGACAGGTACGTTAATAGTTAATA...</td>\n",
              "      <td>ATGGCAGATTCCAACGGTACTATTACCGTTGAAGAGCTTAAAAAGC...</td>\n",
              "      <td>ATGTTTCATCTCGTTGACTTTCAGGTTACTATAGCAGAGATATTAC...</td>\n",
              "      <td>ATGAAAATTATTCTTTTCTTGGCACTGATAACACTCGCTACTTGTG...</td>\n",
              "      <td>ATGATTGAACTTTCATTAATTGACTTCTATTTGTGCTTTTTAGCCT...</td>\n",
              "      <td>ATGAAATTTCTTGTTTTCTTAGGAATCATCACAACTGTAGCTGCAT...</td>\n",
              "      <td>ATGTCTGATAATGGACCCCAAAATCAGCGAAATGCACCCCGCATTA...</td>\n",
              "      <td>ATGGGCTATATAAACGTTTTCGCTTTTCCGTTTACGATATATAGTC...</td>\n",
              "      <td>1</td>\n",
              "    </tr>\n",
              "    <tr>\n",
              "      <th>2</th>\n",
              "      <td>-------------------------------------AACTTTCGA...</td>\n",
              "      <td>ATGGAGAGCCTTGTCCCTGGTTTCAACGAGAAAACACACGTCCAAC...</td>\n",
              "      <td>ATGTTTGTTTTTCTTGTTTTATTGCCACTAGTCTCTATTCAGTGTG...</td>\n",
              "      <td>ATGGATTTGTTTATGAGAATCTTCACAATTGGAACTGTAACTTTGA...</td>\n",
              "      <td>ATGTACTCATTCGTTTCGGAAGAGACAGGTACGTTAATAGTTAATA...</td>\n",
              "      <td>ATGGCAGATTCCAACGGTACTATTACCGTTGAAGAGCTTAAAAAGC...</td>\n",
              "      <td>ATGTTTCATCTCGTTGACTTTCAGGTTACTATAGCAGAGATATTAC...</td>\n",
              "      <td>ATGAAAATTATTCTTTTCTTGGCACTGATAACACTCGCTACTTGTG...</td>\n",
              "      <td>ATGATTGAACTTTCATTAATTGACTTCTATTTGTGCTTTTTAGCCT...</td>\n",
              "      <td>ATGAAATTTCTTGTTTTCTTAGGAATCATCACAACTGTAGCTGCAT...</td>\n",
              "      <td>ATGTCTGATAATGGACCCCAAAATCAGCGAAATGCACCCCGCATTA...</td>\n",
              "      <td>ATGGGCTATATAAACGTTTTCGCTTTTCCGTTTACGATATATAGTC...</td>\n",
              "      <td>1</td>\n",
              "    </tr>\n",
              "    <tr>\n",
              "      <th>3</th>\n",
              "      <td>----------------------------------------------...</td>\n",
              "      <td>ATGGAGAGCCTTGTCCCTGGTTTCAACGAGAAAACACACGTCCAAC...</td>\n",
              "      <td>ATGTTTGTTTTTCTTGTTTTATTGCCACTAGTCTCTATTCAGTGTG...</td>\n",
              "      <td>ATGGATTTGTTTATGAGAATCTTCACAATTGGAACTGTAACTTTGA...</td>\n",
              "      <td>ATGTACTCATTCGTTTCGGAAGAGACAGGTACGTTAATAGTTAATA...</td>\n",
              "      <td>ATGGCAGATTCCAACGGTACTATTACCGTTGAAGAGCTTAAAAAGC...</td>\n",
              "      <td>ATGTTTCATCTCGTTGACTTTCAGGTTACTATAGCAGAGATATTAC...</td>\n",
              "      <td>ATGAAAATTATTCTTTTCTTGGCACTGATAACACTCGCTACTTGTG...</td>\n",
              "      <td>ATGATTGAACTTTCATTAATTGACTTCTATTTGTGCTTTTTAGCCT...</td>\n",
              "      <td>ATGAAATTTCTTGTTTTCTTAGGAATCATCACAACTGTAGCTGCAT...</td>\n",
              "      <td>ATGTCTGATAATGGACCCCAAAATCAGCGAAATGCACCCCGCATTA...</td>\n",
              "      <td>ATGGGCTATATAAACGTTTTCGCTTTTCCGTTTACGATATATAGTC...</td>\n",
              "      <td>1</td>\n",
              "    </tr>\n",
              "    <tr>\n",
              "      <th>4</th>\n",
              "      <td>------GGTTTATACCTTCCCAGGTAACAAACCAACCAACTTTCGA...</td>\n",
              "      <td>ATGGAGAGCCTTGTCCCTGGTTTCAACGAGAAAACACACGTCCAAC...</td>\n",
              "      <td>ATGTTTGTTTTTCTTGTTTTATTGCCACTAGTCTCTATTCAGTGTG...</td>\n",
              "      <td>ATGGATTTGTTTATGAGAATCTTCACAATTGGAACTGTAACTTTGA...</td>\n",
              "      <td>ATGTACTCATTCGTTTCGGAAGAGACAGGTACGTTAATAGTTAATA...</td>\n",
              "      <td>ATGGCAGATTCCAACGGTACTATTACCGTTGAAGAGCTTAAAAAGC...</td>\n",
              "      <td>ATGTTTCATCTCGTTGACTTTCAGGTTACTATAGCAGAGATATTAC...</td>\n",
              "      <td>ATGAAAATTATTCTTTTCTTGGCACTGATAACACTCGCTACTTGTG...</td>\n",
              "      <td>ATGATTGAACTTTCATTAATTGACTTCTATTTGTGCTTTTTAGCCT...</td>\n",
              "      <td>ATGAAATTTCTTGTTTTCTTAGGAATCATCACAACTGTAGCTGCAT...</td>\n",
              "      <td>ATGTCTGATAATGGACCCCAAAATCAGCGAAATGCACCCCGCATTA...</td>\n",
              "      <td>ATGGGCTATATAAACGTTTTCGCTTTTCCGTTTACGATATATAGTC...</td>\n",
              "      <td>1</td>\n",
              "    </tr>\n",
              "    <tr>\n",
              "      <th>...</th>\n",
              "      <td>...</td>\n",
              "      <td>...</td>\n",
              "      <td>...</td>\n",
              "      <td>...</td>\n",
              "      <td>...</td>\n",
              "      <td>...</td>\n",
              "      <td>...</td>\n",
              "      <td>...</td>\n",
              "      <td>...</td>\n",
              "      <td>...</td>\n",
              "      <td>...</td>\n",
              "      <td>...</td>\n",
              "      <td>...</td>\n",
              "    </tr>\n",
              "    <tr>\n",
              "      <th>5995</th>\n",
              "      <td>----------------------------------------TTTCGA...</td>\n",
              "      <td>ATGGAGAGCCTTGTCCCTGGTTTCAACGAGAAAACACACGTCCAAC...</td>\n",
              "      <td>ATGTTTGTTTTTCTTGTTTTATTGCCACTAGTCTCTAGTCAGTGTG...</td>\n",
              "      <td>ATGGATTTGTTTATGAGAATCTTCACAATTGGAACTGTAACTTTGA...</td>\n",
              "      <td>ATGTACTCATTCGTTTCGGAAGAGACAGGTACGTTAATAGTTAATA...</td>\n",
              "      <td>ATGGCAGATTCCAACGGTACTATTACCGTTGAAGAGCTTAAAAAGC...</td>\n",
              "      <td>ATGTTTCATCTCGTTGACTTTCAGGTTACTATAGCAGAGATATTAC...</td>\n",
              "      <td>ATGAAAATTATTCTTTTCTTGGCACTGATAACACTCGCTACTTGTG...</td>\n",
              "      <td>ATGATTGAACTTTCATTAATTGACTTCTATTTGTGCTTTTTAGCCT...</td>\n",
              "      <td>ATGAAATTTCTTGTTTTCTTAGGAATCATCACAACTGTAGCTGCAT...</td>\n",
              "      <td>ATGTCTGATAATGGACCCCAAAATCAGCGAAATGCACCCCGCATTA...</td>\n",
              "      <td>ATGGGCTATATAAACGTTTTCGCTTTTCCGTTTACGATATATAGTC...</td>\n",
              "      <td>5</td>\n",
              "    </tr>\n",
              "    <tr>\n",
              "      <th>5996</th>\n",
              "      <td>----------------------------------------------...</td>\n",
              "      <td>ATGGAGAGCCTTGTCCCTGGTTTCAACGAGAAAACACACGTCCAAC...</td>\n",
              "      <td>ATGTTTGTTTTTCTTGTTTTATTGCCACTAGTCTCTAGTCAGTGTG...</td>\n",
              "      <td>ATGGATTTGTTTATGAGAATCTTCACAATTGGAACTGTAACTTTGA...</td>\n",
              "      <td>ATGTACTCATTCGTTTCGGAAGAGACAGGTACGTTAATAGTTAATA...</td>\n",
              "      <td>ATGGCAGATTCCAACGGTACTATTACCGTTGAAGAGCTTAAAAAGC...</td>\n",
              "      <td>ATGTTTCATCTCGTTGACTTTCAGGTTACTATAGCAGAGATATTAC...</td>\n",
              "      <td>ATGAAAATTATTCTTTTCTTGGCACTGATAACACTCGCTACTTGTG...</td>\n",
              "      <td>ATGATTGAACTTTCATTAATTGACTTCTATTTGTGCTTTTTAGCCT...</td>\n",
              "      <td>ATGAAATTTCTTGTTTTCTTAGGAATCATCACAACTGTAGCTGCAT...</td>\n",
              "      <td>ATGTCTGATAATGGACCCCAAAATCAGCGAAATGCACCCCGCATTA...</td>\n",
              "      <td>ATGGGCTATATAAACGTTTTCGCTTTTCCGTTTACGATATATAGTC...</td>\n",
              "      <td>5</td>\n",
              "    </tr>\n",
              "    <tr>\n",
              "      <th>5997</th>\n",
              "      <td>----------------------------------------------...</td>\n",
              "      <td>ATGGAGAGCCTTGTCCCTGGTTTCAACGAGAAAACACACGTCCAAC...</td>\n",
              "      <td>ATGTTTGTTTTTCTTGTTTTATTGCCACTAGTCTCTAGTCAGTGTG...</td>\n",
              "      <td>ATGGATTTGTTTATGAGAATCTTCACAATTGGAACTGTAACTTTGA...</td>\n",
              "      <td>ATGTACTCATTCGTTTCGGAAGAGACAGGTACGTTAATAGTTAATA...</td>\n",
              "      <td>ATGGCAGATTCCAACGGTACTATTACCGTTGAAGAGCTTAAAAAGC...</td>\n",
              "      <td>ATGTTTCATCTCGTTGACTTTCAGGTTACTATAGCAGAGATATTAC...</td>\n",
              "      <td>ATGAAAATTATTCTTTTCTTGGCACTGATAACACTCGCTACTTGTG...</td>\n",
              "      <td>ATGATTGAACTTTCATTAATTGACTTCTATTTGTGCTTTTTAGCCT...</td>\n",
              "      <td>ATGAAATTTCTTGTTTTCTTAGGAATCATCACAACTGTAGCTGCAT...</td>\n",
              "      <td>ATGTCTGATAATGGACCCCAAAATCAGCGAAATGCACCCCGCATTA...</td>\n",
              "      <td>ATGGGCTATATAAACGTTTTCGCTTTTCCGTTTACGATATATAGTC...</td>\n",
              "      <td>5</td>\n",
              "    </tr>\n",
              "    <tr>\n",
              "      <th>5998</th>\n",
              "      <td>--------------------------------------ACTTTCGA...</td>\n",
              "      <td>ATGGAGAGCCTTGTCCCTGGTTTCAACGAGAAAACACACGTCCAAC...</td>\n",
              "      <td>ATGTTTGTTTTTCTTGTTTTATTGCCACTAGTCTCTAGTCAGTGTG...</td>\n",
              "      <td>ATGGATTTGTTTATGAGAATCTTCACAATTGGAACTGTAACTTTGA...</td>\n",
              "      <td>ATGTACTCATTCGTTTCGGAAGAGACAGGTACGTTAATAGTTAATA...</td>\n",
              "      <td>ATGGCAGATTCCAACGGTACTATTACCGTTGAAGAGCTTAAAAAGC...</td>\n",
              "      <td>ATGTTTCATCTCGTTGACTTTCAGGTTACTATAGCAGAGATATTAC...</td>\n",
              "      <td>ATGAAAATTATTCTTTTCTTGGCACTGATAACACTCGCTACTTGTG...</td>\n",
              "      <td>ATGATTGAACTTTCATTAATTGACTTCTATTTGTGCTTTTTAGCCT...</td>\n",
              "      <td>ATGAAATTTCTTGTTTTCTTAGGAATCATCACAACTGTAGCTGCAT...</td>\n",
              "      <td>ATGTCTGATAATGGACCCCAAAATCAGCGAAATGCACCCCGCATTA...</td>\n",
              "      <td>ATGGGCTATATAAACGTTTTCGCTTTTCCGTTTACGATATATAGTC...</td>\n",
              "      <td>5</td>\n",
              "    </tr>\n",
              "    <tr>\n",
              "      <th>5999</th>\n",
              "      <td>----------------------------------------TTTCGA...</td>\n",
              "      <td>ATGGAGAGCCTTGTCCCTGGTTTCAACGAGAAAACACACGTCCAAC...</td>\n",
              "      <td>ATGTTTGTTTTTCTTGTTTTATTGCCACTAGTCTCTAGTCAGTGTG...</td>\n",
              "      <td>ATGGATTTGTTTATGAGAATCTTCACAATTGGAACTGTAACTTTGA...</td>\n",
              "      <td>ATGTACTCATTCGTTTCGGAAGAGACAGGTACGTTAATAGTTAATA...</td>\n",
              "      <td>ATGGCAGATTCCAACGGTACTATTACCGTTGAAGAGCTTAAAAAGC...</td>\n",
              "      <td>ATGTTTCATCTCGTTGACTTTCAGGTTACTATAGCAGAGATATTAC...</td>\n",
              "      <td>ATGAAAATTATTCTTTTCTTGGCACTGATAACACTCGCTACTTGTG...</td>\n",
              "      <td>ATGATTGAACTTTCATTAATTGACTTCTATTTGTGCTTTTTAGCCT...</td>\n",
              "      <td>ATGAAATTTCTTGTTTTCTTAGGAATCATCACAACTGTAGCTGCAT...</td>\n",
              "      <td>ATGTCTGATAATGGACCCCAAAATCAGCGAAATGCACCCCGCATTA...</td>\n",
              "      <td>ATGGGCTATATAAACGTTTTCGCTTTTCCGTTTACGATATATAGTC...</td>\n",
              "      <td>5</td>\n",
              "    </tr>\n",
              "  </tbody>\n",
              "</table>\n",
              "<p>6000 rows × 13 columns</p>\n",
              "</div>"
            ],
            "text/plain": [
              "                                          Full sequence  ... label\n",
              "0     ----------------------------------------------...  ...     1\n",
              "1     ----------------TTCCCAGGTAACAAACCAACCAACTTTCGA...  ...     1\n",
              "2     -------------------------------------AACTTTCGA...  ...     1\n",
              "3     ----------------------------------------------...  ...     1\n",
              "4     ------GGTTTATACCTTCCCAGGTAACAAACCAACCAACTTTCGA...  ...     1\n",
              "...                                                 ...  ...   ...\n",
              "5995  ----------------------------------------TTTCGA...  ...     5\n",
              "5996  ----------------------------------------------...  ...     5\n",
              "5997  ----------------------------------------------...  ...     5\n",
              "5998  --------------------------------------ACTTTCGA...  ...     5\n",
              "5999  ----------------------------------------TTTCGA...  ...     5\n",
              "\n",
              "[6000 rows x 13 columns]"
            ]
          },
          "metadata": {
            "tags": []
          },
          "execution_count": 5
        }
      ]
    },
    {
      "cell_type": "code",
      "metadata": {
        "id": "ddyC3pd_tnv2"
      },
      "source": [
        "data.drop('Full sequence',axis='columns',inplace=True)"
      ],
      "execution_count": 6,
      "outputs": []
    },
    {
      "cell_type": "code",
      "metadata": {
        "id": "RRTS2HgDuowm"
      },
      "source": [
        "def df_to_dataset(dataframe, shuffle=True, batch_size=32):\n",
        "  dataframe = dataframe.copy()\n",
        "  labels = dataframe.pop('label')\n",
        "  ds = tf.data.Dataset.from_tensor_slices((dict(dataframe), labels))\n",
        "  if shuffle:\n",
        "    ds = ds.shuffle(buffer_size=len(dataframe))\n",
        "  ds = ds.batch(batch_size)\n",
        "  return ds\n",
        "\n",
        "from sklearn.preprocessing import LabelEncoder\n",
        "le=LabelEncoder()\n",
        "data['label']=le.fit_transform(data['label'])\n",
        "from sklearn.model_selection import train_test_split\n",
        "train, test = train_test_split(data, test_size=0.2,shuffle=True,stratify=data['label'])\n",
        "train, val = train_test_split(train, test_size=0.2,shuffle=True,stratify=train['label'])"
      ],
      "execution_count": 7,
      "outputs": []
    },
    {
      "cell_type": "code",
      "metadata": {
        "colab": {
          "base_uri": "https://localhost:8080/"
        },
        "id": "eHpzRcW96B3F",
        "outputId": "c71e9961-09bb-40d0-cb83-3867e9feb864"
      },
      "source": [
        "indicator_column_names = data.columns.drop('label')\n",
        "indicator_column_names"
      ],
      "execution_count": 8,
      "outputs": [
        {
          "output_type": "execute_result",
          "data": {
            "text/plain": [
              "Index(['ORF1ab', 'S', 'ORF3a', 'E', 'M', 'ORF6', 'ORF7a', 'ORF7b', 'ORF8', 'N',\n",
              "       'ORF10'],\n",
              "      dtype='object')"
            ]
          },
          "metadata": {
            "tags": []
          },
          "execution_count": 8
        }
      ]
    },
    {
      "cell_type": "code",
      "metadata": {
        "id": "4Nx6XvlVz1Ap"
      },
      "source": [
        "batch_size = 30\n",
        "train_ds = df_to_dataset(train, shuffle = False, batch_size=batch_size)\n",
        "val_ds = df_to_dataset(val, shuffle=False, batch_size=batch_size)\n",
        "test_ds = df_to_dataset(test, shuffle=False, batch_size=batch_size)\n",
        "feature_columns = []\n",
        "n_features = 1000\n",
        "for col_name in indicator_column_names:\n",
        "  categorical_column = feature_column.categorical_column_with_vocabulary_list(\n",
        "      col_name, data[col_name].unique())\n",
        "  indicator_column = feature_column.indicator_column(categorical_column)\n",
        "  feature_columns.append(indicator_column)"
      ],
      "execution_count": 9,
      "outputs": []
    },
    {
      "cell_type": "code",
      "metadata": {
        "id": "n0iVxnCn7B9Q"
      },
      "source": [
        "feature_layer = tf.keras.layers.DenseFeatures(feature_columns)"
      ],
      "execution_count": 10,
      "outputs": []
    },
    {
      "cell_type": "code",
      "metadata": {
        "id": "gYHH0lYv7Y-i"
      },
      "source": [
        "model = tf.keras.Sequential([                          \n",
        " feature_layer,\n",
        "  layers.Dense(128, activation='relu'),\n",
        "  layers.Dense(128, activation='relu'),\n",
        "  layers.Dropout(.1),\n",
        "  layers.Dense(6)\n",
        "])"
      ],
      "execution_count": 11,
      "outputs": []
    },
    {
      "cell_type": "code",
      "metadata": {
        "colab": {
          "base_uri": "https://localhost:8080/",
          "height": 1000
        },
        "id": "HmoHL1_G7ccN",
        "outputId": "51a9155e-cd4f-4d0b-94dc-5f8629eb7b0a"
      },
      "source": [
        "num_epochs = 50\n",
        "bs = 32\n",
        "lr = 1e-5\n",
        "opt = tf.keras.optimizers.Adam(learning_rate=lr)\n",
        "#train_ds = df_to_dataset(train_x,train_y,batch_size = bs)\n",
        "#val_ds = df_to_dataset(val_x,val_y,batch_size = bs)\n",
        "\n",
        "\n",
        "model.compile(optimizer=opt,\n",
        "              loss=tf.keras.losses.SparseCategoricalCrossentropy(from_logits=True),\n",
        "              metrics=['accuracy'])\n",
        "\n",
        "history = model.fit(train_ds, epochs=num_epochs, validation_data=val_ds, batch_size = bs, verbose=2)\n",
        "\n",
        "\n",
        "import matplotlib.image  as mpimg\n",
        "import matplotlib.pyplot as plt\n",
        "#Result Visulization\n",
        "acc=history.history['accuracy']\n",
        "val_acc=history.history['val_accuracy']\n",
        "loss=history.history['loss']\n",
        "val_loss=history.history['val_loss']\n",
        "\n",
        "epochs=range(len(acc)) # Get number of epochs\n",
        "\n",
        "\n",
        "# Plot training and validation accuracy per epoch\n",
        "\n",
        "plt.plot(epochs, acc, 'r')\n",
        "plt.plot(epochs, val_acc, 'b')\n",
        "plt.title('Training and validation accuracy')\n",
        "plt.xlabel(\"Epochs\")\n",
        "plt.ylabel(\"Accuracy\")\n",
        "plt.legend([\" Train Accuracy\", \"Validation Accuracy\"])\n",
        "\n",
        "plt.figure()\n",
        "\n",
        "\n",
        "# Plot training and validation loss per epoch\n",
        "\n",
        "plt.plot(epochs, loss, 'r')\n",
        "plt.plot(epochs, val_loss, 'b')\n",
        "plt.title('Training and validation loss')\n",
        "plt.xlabel(\"Epochs\")\n",
        "plt.ylabel(\"Loss\")\n",
        "plt.legend([\" Train Loss\", \"Validation Loss\"])\n",
        "\n",
        "plt.figure()"
      ],
      "execution_count": 12,
      "outputs": [
        {
          "output_type": "stream",
          "text": [
            "Epoch 1/50\n",
            "WARNING:tensorflow:Layers in a Sequential model should only have a single input tensor, but we receive a <class 'dict'> input: {'ORF1ab': <tf.Tensor 'ExpandDims_4:0' shape=(None, 1) dtype=string>, 'S': <tf.Tensor 'ExpandDims_10:0' shape=(None, 1) dtype=string>, 'ORF3a': <tf.Tensor 'ExpandDims_5:0' shape=(None, 1) dtype=string>, 'E': <tf.Tensor 'ExpandDims:0' shape=(None, 1) dtype=string>, 'M': <tf.Tensor 'ExpandDims_1:0' shape=(None, 1) dtype=string>, 'ORF6': <tf.Tensor 'ExpandDims_6:0' shape=(None, 1) dtype=string>, 'ORF7a': <tf.Tensor 'ExpandDims_7:0' shape=(None, 1) dtype=string>, 'ORF7b': <tf.Tensor 'ExpandDims_8:0' shape=(None, 1) dtype=string>, 'ORF8': <tf.Tensor 'ExpandDims_9:0' shape=(None, 1) dtype=string>, 'N': <tf.Tensor 'ExpandDims_2:0' shape=(None, 1) dtype=string>, 'ORF10': <tf.Tensor 'ExpandDims_3:0' shape=(None, 1) dtype=string>}\n",
            "Consider rewriting this model with the Functional API.\n",
            "WARNING:tensorflow:Layers in a Sequential model should only have a single input tensor, but we receive a <class 'dict'> input: {'ORF1ab': <tf.Tensor 'ExpandDims_4:0' shape=(None, 1) dtype=string>, 'S': <tf.Tensor 'ExpandDims_10:0' shape=(None, 1) dtype=string>, 'ORF3a': <tf.Tensor 'ExpandDims_5:0' shape=(None, 1) dtype=string>, 'E': <tf.Tensor 'ExpandDims:0' shape=(None, 1) dtype=string>, 'M': <tf.Tensor 'ExpandDims_1:0' shape=(None, 1) dtype=string>, 'ORF6': <tf.Tensor 'ExpandDims_6:0' shape=(None, 1) dtype=string>, 'ORF7a': <tf.Tensor 'ExpandDims_7:0' shape=(None, 1) dtype=string>, 'ORF7b': <tf.Tensor 'ExpandDims_8:0' shape=(None, 1) dtype=string>, 'ORF8': <tf.Tensor 'ExpandDims_9:0' shape=(None, 1) dtype=string>, 'N': <tf.Tensor 'ExpandDims_2:0' shape=(None, 1) dtype=string>, 'ORF10': <tf.Tensor 'ExpandDims_3:0' shape=(None, 1) dtype=string>}\n",
            "Consider rewriting this model with the Functional API.\n",
            "WARNING:tensorflow:Layers in a Sequential model should only have a single input tensor, but we receive a <class 'dict'> input: {'ORF1ab': <tf.Tensor 'ExpandDims_4:0' shape=(None, 1) dtype=string>, 'S': <tf.Tensor 'ExpandDims_10:0' shape=(None, 1) dtype=string>, 'ORF3a': <tf.Tensor 'ExpandDims_5:0' shape=(None, 1) dtype=string>, 'E': <tf.Tensor 'ExpandDims:0' shape=(None, 1) dtype=string>, 'M': <tf.Tensor 'ExpandDims_1:0' shape=(None, 1) dtype=string>, 'ORF6': <tf.Tensor 'ExpandDims_6:0' shape=(None, 1) dtype=string>, 'ORF7a': <tf.Tensor 'ExpandDims_7:0' shape=(None, 1) dtype=string>, 'ORF7b': <tf.Tensor 'ExpandDims_8:0' shape=(None, 1) dtype=string>, 'ORF8': <tf.Tensor 'ExpandDims_9:0' shape=(None, 1) dtype=string>, 'N': <tf.Tensor 'ExpandDims_2:0' shape=(None, 1) dtype=string>, 'ORF10': <tf.Tensor 'ExpandDims_3:0' shape=(None, 1) dtype=string>}\n",
            "Consider rewriting this model with the Functional API.\n",
            "128/128 - 4s - loss: 1.7799 - accuracy: 0.2919 - val_loss: 1.7698 - val_accuracy: 0.3729\n",
            "Epoch 2/50\n",
            "128/128 - 2s - loss: 1.7574 - accuracy: 0.4831 - val_loss: 1.7471 - val_accuracy: 0.5896\n",
            "Epoch 3/50\n",
            "128/128 - 2s - loss: 1.7324 - accuracy: 0.6617 - val_loss: 1.7201 - val_accuracy: 0.7323\n",
            "Epoch 4/50\n",
            "128/128 - 2s - loss: 1.7012 - accuracy: 0.7904 - val_loss: 1.6871 - val_accuracy: 0.8208\n",
            "Epoch 5/50\n",
            "128/128 - 2s - loss: 1.6635 - accuracy: 0.8557 - val_loss: 1.6473 - val_accuracy: 0.8792\n",
            "Epoch 6/50\n",
            "128/128 - 2s - loss: 1.6188 - accuracy: 0.9076 - val_loss: 1.5994 - val_accuracy: 0.9177\n",
            "Epoch 7/50\n",
            "128/128 - 2s - loss: 1.5644 - accuracy: 0.9365 - val_loss: 1.5426 - val_accuracy: 0.9385\n",
            "Epoch 8/50\n",
            "128/128 - 2s - loss: 1.5019 - accuracy: 0.9560 - val_loss: 1.4779 - val_accuracy: 0.9479\n",
            "Epoch 9/50\n",
            "128/128 - 2s - loss: 1.4327 - accuracy: 0.9664 - val_loss: 1.4070 - val_accuracy: 0.9625\n",
            "Epoch 10/50\n",
            "128/128 - 2s - loss: 1.3560 - accuracy: 0.9753 - val_loss: 1.3308 - val_accuracy: 0.9688\n",
            "Epoch 11/50\n",
            "128/128 - 2s - loss: 1.2742 - accuracy: 0.9823 - val_loss: 1.2504 - val_accuracy: 0.9708\n",
            "Epoch 12/50\n",
            "128/128 - 2s - loss: 1.1911 - accuracy: 0.9846 - val_loss: 1.1681 - val_accuracy: 0.9760\n",
            "Epoch 13/50\n",
            "128/128 - 2s - loss: 1.1030 - accuracy: 0.9870 - val_loss: 1.0854 - val_accuracy: 0.9781\n",
            "Epoch 14/50\n",
            "128/128 - 2s - loss: 1.0189 - accuracy: 0.9893 - val_loss: 1.0042 - val_accuracy: 0.9802\n",
            "Epoch 15/50\n",
            "128/128 - 2s - loss: 0.9397 - accuracy: 0.9901 - val_loss: 0.9257 - val_accuracy: 0.9802\n",
            "Epoch 16/50\n",
            "128/128 - 2s - loss: 0.8601 - accuracy: 0.9922 - val_loss: 0.8500 - val_accuracy: 0.9812\n",
            "Epoch 17/50\n",
            "128/128 - 2s - loss: 0.7831 - accuracy: 0.9930 - val_loss: 0.7774 - val_accuracy: 0.9812\n",
            "Epoch 18/50\n",
            "128/128 - 2s - loss: 0.7102 - accuracy: 0.9935 - val_loss: 0.7097 - val_accuracy: 0.9812\n",
            "Epoch 19/50\n",
            "128/128 - 2s - loss: 0.6446 - accuracy: 0.9951 - val_loss: 0.6474 - val_accuracy: 0.9823\n",
            "Epoch 20/50\n",
            "128/128 - 2s - loss: 0.5821 - accuracy: 0.9953 - val_loss: 0.5903 - val_accuracy: 0.9823\n",
            "Epoch 21/50\n",
            "128/128 - 2s - loss: 0.5266 - accuracy: 0.9953 - val_loss: 0.5379 - val_accuracy: 0.9833\n",
            "Epoch 22/50\n",
            "128/128 - 2s - loss: 0.4749 - accuracy: 0.9951 - val_loss: 0.4902 - val_accuracy: 0.9833\n",
            "Epoch 23/50\n",
            "128/128 - 2s - loss: 0.4297 - accuracy: 0.9958 - val_loss: 0.4472 - val_accuracy: 0.9833\n",
            "Epoch 24/50\n",
            "128/128 - 2s - loss: 0.3871 - accuracy: 0.9969 - val_loss: 0.4086 - val_accuracy: 0.9854\n",
            "Epoch 25/50\n",
            "128/128 - 2s - loss: 0.3497 - accuracy: 0.9966 - val_loss: 0.3740 - val_accuracy: 0.9865\n",
            "Epoch 26/50\n",
            "128/128 - 2s - loss: 0.3173 - accuracy: 0.9958 - val_loss: 0.3430 - val_accuracy: 0.9865\n",
            "Epoch 27/50\n",
            "128/128 - 2s - loss: 0.2870 - accuracy: 0.9964 - val_loss: 0.3152 - val_accuracy: 0.9865\n",
            "Epoch 28/50\n",
            "128/128 - 2s - loss: 0.2617 - accuracy: 0.9974 - val_loss: 0.2902 - val_accuracy: 0.9865\n",
            "Epoch 29/50\n",
            "128/128 - 2s - loss: 0.2376 - accuracy: 0.9969 - val_loss: 0.2679 - val_accuracy: 0.9865\n",
            "Epoch 30/50\n",
            "128/128 - 2s - loss: 0.2171 - accuracy: 0.9974 - val_loss: 0.2478 - val_accuracy: 0.9865\n",
            "Epoch 31/50\n",
            "128/128 - 2s - loss: 0.1981 - accuracy: 0.9977 - val_loss: 0.2298 - val_accuracy: 0.9865\n",
            "Epoch 32/50\n",
            "128/128 - 2s - loss: 0.1813 - accuracy: 0.9987 - val_loss: 0.2136 - val_accuracy: 0.9875\n",
            "Epoch 33/50\n",
            "128/128 - 2s - loss: 0.1650 - accuracy: 0.9977 - val_loss: 0.1991 - val_accuracy: 0.9875\n",
            "Epoch 34/50\n",
            "128/128 - 2s - loss: 0.1517 - accuracy: 0.9982 - val_loss: 0.1860 - val_accuracy: 0.9875\n",
            "Epoch 35/50\n",
            "128/128 - 2s - loss: 0.1401 - accuracy: 0.9979 - val_loss: 0.1741 - val_accuracy: 0.9885\n",
            "Epoch 36/50\n",
            "128/128 - 2s - loss: 0.1283 - accuracy: 0.9987 - val_loss: 0.1633 - val_accuracy: 0.9885\n",
            "Epoch 37/50\n",
            "128/128 - 2s - loss: 0.1197 - accuracy: 0.9982 - val_loss: 0.1535 - val_accuracy: 0.9885\n",
            "Epoch 38/50\n",
            "128/128 - 2s - loss: 0.1094 - accuracy: 0.9995 - val_loss: 0.1446 - val_accuracy: 0.9885\n",
            "Epoch 39/50\n",
            "128/128 - 2s - loss: 0.1012 - accuracy: 0.9990 - val_loss: 0.1366 - val_accuracy: 0.9885\n",
            "Epoch 40/50\n",
            "128/128 - 2s - loss: 0.0938 - accuracy: 0.9992 - val_loss: 0.1291 - val_accuracy: 0.9885\n",
            "Epoch 41/50\n",
            "128/128 - 2s - loss: 0.0867 - accuracy: 0.9992 - val_loss: 0.1224 - val_accuracy: 0.9885\n",
            "Epoch 42/50\n",
            "128/128 - 2s - loss: 0.0812 - accuracy: 0.9990 - val_loss: 0.1161 - val_accuracy: 0.9885\n",
            "Epoch 43/50\n",
            "128/128 - 2s - loss: 0.0750 - accuracy: 0.9995 - val_loss: 0.1104 - val_accuracy: 0.9885\n",
            "Epoch 44/50\n",
            "128/128 - 2s - loss: 0.0702 - accuracy: 0.9990 - val_loss: 0.1051 - val_accuracy: 0.9885\n",
            "Epoch 45/50\n",
            "128/128 - 2s - loss: 0.0654 - accuracy: 0.9990 - val_loss: 0.1003 - val_accuracy: 0.9885\n",
            "Epoch 46/50\n",
            "128/128 - 2s - loss: 0.0616 - accuracy: 0.9992 - val_loss: 0.0958 - val_accuracy: 0.9885\n",
            "Epoch 47/50\n",
            "128/128 - 2s - loss: 0.0568 - accuracy: 0.9997 - val_loss: 0.0916 - val_accuracy: 0.9885\n",
            "Epoch 48/50\n",
            "128/128 - 2s - loss: 0.0530 - accuracy: 0.9992 - val_loss: 0.0878 - val_accuracy: 0.9885\n",
            "Epoch 49/50\n",
            "128/128 - 2s - loss: 0.0499 - accuracy: 0.9995 - val_loss: 0.0842 - val_accuracy: 0.9885\n",
            "Epoch 50/50\n",
            "128/128 - 2s - loss: 0.0472 - accuracy: 0.9990 - val_loss: 0.0809 - val_accuracy: 0.9885\n"
          ],
          "name": "stdout"
        },
        {
          "output_type": "execute_result",
          "data": {
            "text/plain": [
              "<Figure size 432x288 with 0 Axes>"
            ]
          },
          "metadata": {
            "tags": []
          },
          "execution_count": 12
        },
        {
          "output_type": "display_data",
          "data": {
            "image/png": "[encoded data removed]",
            "text/plain": [
              "<Figure size 432x288 with 1 Axes>"
            ]
          },
          "metadata": {
            "tags": [],
            "needs_background": "light"
          }
        },
        {
          "output_type": "display_data",
          "data": {
            "image/png": "[encoded data removed]",
            "text/plain": [
              "<Figure size 432x288 with 1 Axes>"
            ]
          },
          "metadata": {
            "tags": [],
            "needs_background": "light"
          }
        },
        {
          "output_type": "display_data",
          "data": {
            "text/plain": [
              "<Figure size 432x288 with 0 Axes>"
            ]
          },
          "metadata": {
            "tags": []
          }
        }
      ]
    },
    {
      "cell_type": "code",
      "metadata": {
        "colab": {
          "base_uri": "https://localhost:8080/"
        },
        "id": "vT3zE9q58qj8",
        "outputId": "e32cbe8f-3a6b-41d7-9ff8-50d050ba3388"
      },
      "source": [
        "model.fit(train_ds,validation_data=val_ds, epochs=20)\n",
        "loss, accuracy = model.evaluate(test_ds)\n",
        "print(\"Accuracy\", accuracy)"
      ],
      "execution_count": 13,
      "outputs": [
        {
          "output_type": "stream",
          "text": [
            "Epoch 1/20\n",
            "128/128 [==============================] - 2s 15ms/step - loss: 0.0438 - accuracy: 0.9995 - val_loss: 0.0778 - val_accuracy: 0.9885\n",
            "Epoch 2/20\n",
            "128/128 [==============================] - 2s 15ms/step - loss: 0.0406 - accuracy: 0.9995 - val_loss: 0.0749 - val_accuracy: 0.9885\n",
            "Epoch 3/20\n",
            "128/128 [==============================] - 2s 15ms/step - loss: 0.0388 - accuracy: 0.9992 - val_loss: 0.0722 - val_accuracy: 0.9885\n",
            "Epoch 4/20\n",
            "128/128 [==============================] - 2s 15ms/step - loss: 0.0363 - accuracy: 0.9997 - val_loss: 0.0696 - val_accuracy: 0.9885\n",
            "Epoch 5/20\n",
            "128/128 [==============================] - 2s 15ms/step - loss: 0.0338 - accuracy: 0.9995 - val_loss: 0.0673 - val_accuracy: 0.9885\n",
            "Epoch 6/20\n",
            "128/128 [==============================] - 2s 15ms/step - loss: 0.0323 - accuracy: 0.9992 - val_loss: 0.0650 - val_accuracy: 0.9885\n",
            "Epoch 7/20\n",
            "128/128 [==============================] - 2s 15ms/step - loss: 0.0301 - accuracy: 0.9992 - val_loss: 0.0630 - val_accuracy: 0.9885\n",
            "Epoch 8/20\n",
            "128/128 [==============================] - 2s 15ms/step - loss: 0.0284 - accuracy: 0.9995 - val_loss: 0.0610 - val_accuracy: 0.9885\n",
            "Epoch 9/20\n",
            "128/128 [==============================] - 2s 15ms/step - loss: 0.0274 - accuracy: 0.9992 - val_loss: 0.0591 - val_accuracy: 0.9885\n",
            "Epoch 10/20\n",
            "128/128 [==============================] - 2s 15ms/step - loss: 0.0255 - accuracy: 0.9995 - val_loss: 0.0574 - val_accuracy: 0.9885\n",
            "Epoch 11/20\n",
            "128/128 [==============================] - 2s 15ms/step - loss: 0.0241 - accuracy: 0.9997 - val_loss: 0.0557 - val_accuracy: 0.9885\n",
            "Epoch 12/20\n",
            "128/128 [==============================] - 2s 15ms/step - loss: 0.0224 - accuracy: 1.0000 - val_loss: 0.0542 - val_accuracy: 0.9896\n",
            "Epoch 13/20\n",
            "128/128 [==============================] - 2s 15ms/step - loss: 0.0215 - accuracy: 0.9995 - val_loss: 0.0527 - val_accuracy: 0.9896\n",
            "Epoch 14/20\n",
            "128/128 [==============================] - 2s 15ms/step - loss: 0.0203 - accuracy: 0.9997 - val_loss: 0.0513 - val_accuracy: 0.9896\n",
            "Epoch 15/20\n",
            "128/128 [==============================] - 2s 15ms/step - loss: 0.0190 - accuracy: 0.9997 - val_loss: 0.0500 - val_accuracy: 0.9896\n",
            "Epoch 16/20\n",
            "128/128 [==============================] - 2s 15ms/step - loss: 0.0182 - accuracy: 0.9992 - val_loss: 0.0488 - val_accuracy: 0.9896\n",
            "Epoch 17/20\n",
            "128/128 [==============================] - 2s 15ms/step - loss: 0.0167 - accuracy: 0.9997 - val_loss: 0.0476 - val_accuracy: 0.9896\n",
            "Epoch 18/20\n",
            "128/128 [==============================] - 2s 15ms/step - loss: 0.0162 - accuracy: 0.9997 - val_loss: 0.0465 - val_accuracy: 0.9896\n",
            "Epoch 19/20\n",
            "128/128 [==============================] - 2s 15ms/step - loss: 0.0153 - accuracy: 0.9995 - val_loss: 0.0454 - val_accuracy: 0.9896\n",
            "Epoch 20/20\n",
            "128/128 [==============================] - 2s 15ms/step - loss: 0.0145 - accuracy: 0.9995 - val_loss: 0.0445 - val_accuracy: 0.9896\n",
            "40/40 [==============================] - 0s 6ms/step - loss: 0.0349 - accuracy: 0.9900\n",
            "Accuracy 0.9900000095367432\n"
          ],
          "name": "stdout"
        }
      ]
    }
  ]
}